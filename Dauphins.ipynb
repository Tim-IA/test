{
 "cells": [
  {
   "cell_type": "markdown",
   "id": "f6d13597",
   "metadata": {},
   "source": [
    "# Importation et exploration des données"
   ]
  },
  {
   "cell_type": "code",
   "execution_count": 1,
   "id": "1d6879df",
   "metadata": {},
   "outputs": [
    {
     "data": {
      "text/html": [
       "<div>\n",
       "<style scoped>\n",
       "    .dataframe tbody tr th:only-of-type {\n",
       "        vertical-align: middle;\n",
       "    }\n",
       "\n",
       "    .dataframe tbody tr th {\n",
       "        vertical-align: top;\n",
       "    }\n",
       "\n",
       "    .dataframe thead th {\n",
       "        text-align: right;\n",
       "    }\n",
       "</style>\n",
       "<table border=\"1\" class=\"dataframe\">\n",
       "  <thead>\n",
       "    <tr style=\"text-align: right;\">\n",
       "      <th></th>\n",
       "      <th>variety</th>\n",
       "      <th>area</th>\n",
       "      <th>dimension_1_mm</th>\n",
       "      <th>dimension_2_mm</th>\n",
       "      <th>dimension_3_mm</th>\n",
       "      <th>mass_g</th>\n",
       "      <th>sex</th>\n",
       "    </tr>\n",
       "  </thead>\n",
       "  <tbody>\n",
       "    <tr>\n",
       "      <th>0</th>\n",
       "      <td>Tropicalis</td>\n",
       "      <td>Artic</td>\n",
       "      <td>39.1</td>\n",
       "      <td>18.7</td>\n",
       "      <td>181.0</td>\n",
       "      <td>3750.0</td>\n",
       "      <td>MALE</td>\n",
       "    </tr>\n",
       "    <tr>\n",
       "      <th>1</th>\n",
       "      <td>Tropicalis</td>\n",
       "      <td>Artic</td>\n",
       "      <td>39.5</td>\n",
       "      <td>17.4</td>\n",
       "      <td>186.0</td>\n",
       "      <td>3800.0</td>\n",
       "      <td>FEMALE</td>\n",
       "    </tr>\n",
       "    <tr>\n",
       "      <th>2</th>\n",
       "      <td>Tropicalis</td>\n",
       "      <td>Artic</td>\n",
       "      <td>40.3</td>\n",
       "      <td>18.0</td>\n",
       "      <td>195.0</td>\n",
       "      <td>3250.0</td>\n",
       "      <td>FEMALE</td>\n",
       "    </tr>\n",
       "    <tr>\n",
       "      <th>3</th>\n",
       "      <td>Tropicalis</td>\n",
       "      <td>Artic</td>\n",
       "      <td>NaN</td>\n",
       "      <td>NaN</td>\n",
       "      <td>NaN</td>\n",
       "      <td>NaN</td>\n",
       "      <td>NaN</td>\n",
       "    </tr>\n",
       "    <tr>\n",
       "      <th>4</th>\n",
       "      <td>Tropicalis</td>\n",
       "      <td>Artic</td>\n",
       "      <td>36.7</td>\n",
       "      <td>19.3</td>\n",
       "      <td>193.0</td>\n",
       "      <td>3450.0</td>\n",
       "      <td>FEMALE</td>\n",
       "    </tr>\n",
       "  </tbody>\n",
       "</table>\n",
       "</div>"
      ],
      "text/plain": [
       "      variety   area  dimension_1_mm  dimension_2_mm  dimension_3_mm  mass_g  \\\n",
       "0  Tropicalis  Artic            39.1            18.7           181.0  3750.0   \n",
       "1  Tropicalis  Artic            39.5            17.4           186.0  3800.0   \n",
       "2  Tropicalis  Artic            40.3            18.0           195.0  3250.0   \n",
       "3  Tropicalis  Artic             NaN             NaN             NaN     NaN   \n",
       "4  Tropicalis  Artic            36.7            19.3           193.0  3450.0   \n",
       "\n",
       "      sex  \n",
       "0    MALE  \n",
       "1  FEMALE  \n",
       "2  FEMALE  \n",
       "3     NaN  \n",
       "4  FEMALE  "
      ]
     },
     "execution_count": 1,
     "metadata": {},
     "output_type": "execute_result"
    }
   ],
   "source": [
    "import pandas as pd\n",
    "url = \"https://raw.githubusercontent.com/remijul/dataset/master/dolphins.csv\"\n",
    "df = pd.read_csv(url)\n",
    "df.head()"
   ]
  },
  {
   "cell_type": "code",
   "execution_count": 2,
   "id": "62478d0c",
   "metadata": {},
   "outputs": [
    {
     "data": {
      "text/plain": [
       "(344, 7)"
      ]
     },
     "execution_count": 2,
     "metadata": {},
     "output_type": "execute_result"
    }
   ],
   "source": [
    "df.shape"
   ]
  },
  {
   "cell_type": "markdown",
   "id": "f9350c09",
   "metadata": {},
   "source": [
    "## La cible à prédire est variété. C'est une classification"
   ]
  },
  {
   "cell_type": "markdown",
   "id": "61db375d",
   "metadata": {},
   "source": [
    "### Il y a 3 colonnes catégories et 3 colonnes numériques. Pipeline à appliquer "
   ]
  },
  {
   "cell_type": "code",
   "execution_count": 3,
   "id": "e02f6988",
   "metadata": {},
   "outputs": [
    {
     "name": "stdout",
     "output_type": "stream",
     "text": [
      "<class 'pandas.core.frame.DataFrame'>\n",
      "RangeIndex: 344 entries, 0 to 343\n",
      "Data columns (total 7 columns):\n",
      " #   Column          Non-Null Count  Dtype  \n",
      "---  ------          --------------  -----  \n",
      " 0   variety         344 non-null    object \n",
      " 1   area            344 non-null    object \n",
      " 2   dimension_1_mm  342 non-null    float64\n",
      " 3   dimension_2_mm  342 non-null    float64\n",
      " 4   dimension_3_mm  342 non-null    float64\n",
      " 5   mass_g          342 non-null    float64\n",
      " 6   sex             334 non-null    object \n",
      "dtypes: float64(4), object(3)\n",
      "memory usage: 18.9+ KB\n"
     ]
    }
   ],
   "source": [
    "df.info()"
   ]
  },
  {
   "cell_type": "code",
   "execution_count": 4,
   "id": "15454c50",
   "metadata": {},
   "outputs": [
    {
     "data": {
      "text/plain": [
       "variety     area       dimension_1_mm  dimension_2_mm  dimension_3_mm  mass_g  sex   \n",
       "Chinensis   Pacific    40.9            16.6            187.0           3200.0  FEMALE    1\n",
       "Tropicalis  Artic      42.8            18.5            195.0           4250.0  MALE      1\n",
       "                       42.1            19.1            195.0           4000.0  MALE      1\n",
       "                       41.8            19.4            198.0           4450.0  MALE      1\n",
       "                       41.5            18.3            195.0           4300.0  MALE      1\n",
       "                                                                                        ..\n",
       "Peale       Caraibean  46.2            14.5            209.0           4800.0  FEMALE    1\n",
       "                                       14.1            217.0           4375.0  FEMALE    1\n",
       "                       46.1            15.1            215.0           5100.0  MALE      1\n",
       "                                       13.2            211.0           4500.0  FEMALE    1\n",
       "Tropicalis  Pacific    44.1            19.7            196.0           4400.0  MALE      1\n",
       "Length: 334, dtype: int64"
      ]
     },
     "execution_count": 4,
     "metadata": {},
     "output_type": "execute_result"
    }
   ],
   "source": [
    "df.value_counts()"
   ]
  },
  {
   "cell_type": "markdown",
   "id": "19d55a62",
   "metadata": {},
   "source": [
    "### Jeu des données est déséquilibré. Statégie stratify à appliquer pour train_test_split"
   ]
  },
  {
   "cell_type": "code",
   "execution_count": 5,
   "id": "602801a6",
   "metadata": {},
   "outputs": [
    {
     "data": {
      "text/plain": [
       "Tropicalis    152\n",
       "Peale         124\n",
       "Chinensis      68\n",
       "Name: variety, dtype: int64"
      ]
     },
     "execution_count": 5,
     "metadata": {},
     "output_type": "execute_result"
    }
   ],
   "source": [
    "df['variety'].value_counts()"
   ]
  },
  {
   "cell_type": "markdown",
   "id": "8d4bcd8c",
   "metadata": {},
   "source": [
    "### Vérification des valeurs manquantes"
   ]
  },
  {
   "cell_type": "code",
   "execution_count": 6,
   "id": "608cf680",
   "metadata": {},
   "outputs": [
    {
     "data": {
      "text/plain": [
       "variety            0\n",
       "area               0\n",
       "dimension_1_mm     2\n",
       "dimension_2_mm     2\n",
       "dimension_3_mm     2\n",
       "mass_g             2\n",
       "sex               10\n",
       "dtype: int64"
      ]
     },
     "execution_count": 6,
     "metadata": {},
     "output_type": "execute_result"
    }
   ],
   "source": [
    "df.isna().sum()"
   ]
  },
  {
   "cell_type": "markdown",
   "id": "35d71442",
   "metadata": {},
   "source": [
    "### Vérification des valeurs manquantes de la colonne Sex"
   ]
  },
  {
   "cell_type": "code",
   "execution_count": 7,
   "id": "5d85c12a",
   "metadata": {},
   "outputs": [
    {
     "data": {
      "text/html": [
       "<div>\n",
       "<style scoped>\n",
       "    .dataframe tbody tr th:only-of-type {\n",
       "        vertical-align: middle;\n",
       "    }\n",
       "\n",
       "    .dataframe tbody tr th {\n",
       "        vertical-align: top;\n",
       "    }\n",
       "\n",
       "    .dataframe thead th {\n",
       "        text-align: right;\n",
       "    }\n",
       "</style>\n",
       "<table border=\"1\" class=\"dataframe\">\n",
       "  <thead>\n",
       "    <tr style=\"text-align: right;\">\n",
       "      <th></th>\n",
       "      <th>variety</th>\n",
       "      <th>area</th>\n",
       "      <th>dimension_1_mm</th>\n",
       "      <th>dimension_2_mm</th>\n",
       "      <th>dimension_3_mm</th>\n",
       "      <th>mass_g</th>\n",
       "      <th>sex</th>\n",
       "    </tr>\n",
       "  </thead>\n",
       "  <tbody>\n",
       "    <tr>\n",
       "      <th>3</th>\n",
       "      <td>Tropicalis</td>\n",
       "      <td>Artic</td>\n",
       "      <td>NaN</td>\n",
       "      <td>NaN</td>\n",
       "      <td>NaN</td>\n",
       "      <td>NaN</td>\n",
       "      <td>NaN</td>\n",
       "    </tr>\n",
       "    <tr>\n",
       "      <th>8</th>\n",
       "      <td>Tropicalis</td>\n",
       "      <td>Artic</td>\n",
       "      <td>34.1</td>\n",
       "      <td>18.1</td>\n",
       "      <td>193.0</td>\n",
       "      <td>3475.0</td>\n",
       "      <td>NaN</td>\n",
       "    </tr>\n",
       "    <tr>\n",
       "      <th>9</th>\n",
       "      <td>Tropicalis</td>\n",
       "      <td>Artic</td>\n",
       "      <td>42.0</td>\n",
       "      <td>20.2</td>\n",
       "      <td>190.0</td>\n",
       "      <td>4250.0</td>\n",
       "      <td>NaN</td>\n",
       "    </tr>\n",
       "    <tr>\n",
       "      <th>10</th>\n",
       "      <td>Tropicalis</td>\n",
       "      <td>Artic</td>\n",
       "      <td>37.8</td>\n",
       "      <td>17.1</td>\n",
       "      <td>186.0</td>\n",
       "      <td>3300.0</td>\n",
       "      <td>NaN</td>\n",
       "    </tr>\n",
       "    <tr>\n",
       "      <th>11</th>\n",
       "      <td>Tropicalis</td>\n",
       "      <td>Artic</td>\n",
       "      <td>37.8</td>\n",
       "      <td>17.3</td>\n",
       "      <td>180.0</td>\n",
       "      <td>3700.0</td>\n",
       "      <td>NaN</td>\n",
       "    </tr>\n",
       "    <tr>\n",
       "      <th>47</th>\n",
       "      <td>Tropicalis</td>\n",
       "      <td>Pacific</td>\n",
       "      <td>37.5</td>\n",
       "      <td>18.9</td>\n",
       "      <td>179.0</td>\n",
       "      <td>2975.0</td>\n",
       "      <td>NaN</td>\n",
       "    </tr>\n",
       "    <tr>\n",
       "      <th>246</th>\n",
       "      <td>Peale</td>\n",
       "      <td>Caraibean</td>\n",
       "      <td>44.5</td>\n",
       "      <td>14.3</td>\n",
       "      <td>216.0</td>\n",
       "      <td>4100.0</td>\n",
       "      <td>NaN</td>\n",
       "    </tr>\n",
       "    <tr>\n",
       "      <th>286</th>\n",
       "      <td>Peale</td>\n",
       "      <td>Caraibean</td>\n",
       "      <td>46.2</td>\n",
       "      <td>14.4</td>\n",
       "      <td>214.0</td>\n",
       "      <td>4650.0</td>\n",
       "      <td>NaN</td>\n",
       "    </tr>\n",
       "    <tr>\n",
       "      <th>324</th>\n",
       "      <td>Peale</td>\n",
       "      <td>Caraibean</td>\n",
       "      <td>47.3</td>\n",
       "      <td>13.8</td>\n",
       "      <td>216.0</td>\n",
       "      <td>4725.0</td>\n",
       "      <td>NaN</td>\n",
       "    </tr>\n",
       "    <tr>\n",
       "      <th>339</th>\n",
       "      <td>Peale</td>\n",
       "      <td>Caraibean</td>\n",
       "      <td>NaN</td>\n",
       "      <td>NaN</td>\n",
       "      <td>NaN</td>\n",
       "      <td>NaN</td>\n",
       "      <td>NaN</td>\n",
       "    </tr>\n",
       "  </tbody>\n",
       "</table>\n",
       "</div>"
      ],
      "text/plain": [
       "        variety       area  dimension_1_mm  dimension_2_mm  dimension_3_mm  \\\n",
       "3    Tropicalis      Artic             NaN             NaN             NaN   \n",
       "8    Tropicalis      Artic            34.1            18.1           193.0   \n",
       "9    Tropicalis      Artic            42.0            20.2           190.0   \n",
       "10   Tropicalis      Artic            37.8            17.1           186.0   \n",
       "11   Tropicalis      Artic            37.8            17.3           180.0   \n",
       "47   Tropicalis    Pacific            37.5            18.9           179.0   \n",
       "246       Peale  Caraibean            44.5            14.3           216.0   \n",
       "286       Peale  Caraibean            46.2            14.4           214.0   \n",
       "324       Peale  Caraibean            47.3            13.8           216.0   \n",
       "339       Peale  Caraibean             NaN             NaN             NaN   \n",
       "\n",
       "     mass_g  sex  \n",
       "3       NaN  NaN  \n",
       "8    3475.0  NaN  \n",
       "9    4250.0  NaN  \n",
       "10   3300.0  NaN  \n",
       "11   3700.0  NaN  \n",
       "47   2975.0  NaN  \n",
       "246  4100.0  NaN  \n",
       "286  4650.0  NaN  \n",
       "324  4725.0  NaN  \n",
       "339     NaN  NaN  "
      ]
     },
     "execution_count": 7,
     "metadata": {},
     "output_type": "execute_result"
    }
   ],
   "source": [
    "df[df['sex'].isna()]"
   ]
  },
  {
   "cell_type": "markdown",
   "id": "4a21bed6",
   "metadata": {},
   "source": [
    "### Suppression des lignes inutiles"
   ]
  },
  {
   "cell_type": "code",
   "execution_count": 8,
   "id": "18c2ff66",
   "metadata": {},
   "outputs": [
    {
     "data": {
      "text/plain": [
       "variety           0\n",
       "area              0\n",
       "dimension_1_mm    0\n",
       "dimension_2_mm    0\n",
       "dimension_3_mm    0\n",
       "mass_g            0\n",
       "sex               8\n",
       "dtype: int64"
      ]
     },
     "execution_count": 8,
     "metadata": {},
     "output_type": "execute_result"
    }
   ],
   "source": [
    "df=df.dropna(subset=['dimension_1_mm', 'dimension_2_mm', 'dimension_3_mm'], how='all')\n",
    "df.isna().sum()"
   ]
  },
  {
   "cell_type": "markdown",
   "id": "5a93d95e",
   "metadata": {},
   "source": [
    "### Re-vérification des valeurs manquantes de la colonne Sex"
   ]
  },
  {
   "cell_type": "code",
   "execution_count": 9,
   "id": "7a00322d",
   "metadata": {},
   "outputs": [
    {
     "data": {
      "text/html": [
       "<div>\n",
       "<style scoped>\n",
       "    .dataframe tbody tr th:only-of-type {\n",
       "        vertical-align: middle;\n",
       "    }\n",
       "\n",
       "    .dataframe tbody tr th {\n",
       "        vertical-align: top;\n",
       "    }\n",
       "\n",
       "    .dataframe thead th {\n",
       "        text-align: right;\n",
       "    }\n",
       "</style>\n",
       "<table border=\"1\" class=\"dataframe\">\n",
       "  <thead>\n",
       "    <tr style=\"text-align: right;\">\n",
       "      <th></th>\n",
       "      <th>variety</th>\n",
       "      <th>area</th>\n",
       "      <th>dimension_1_mm</th>\n",
       "      <th>dimension_2_mm</th>\n",
       "      <th>dimension_3_mm</th>\n",
       "      <th>mass_g</th>\n",
       "      <th>sex</th>\n",
       "    </tr>\n",
       "  </thead>\n",
       "  <tbody>\n",
       "    <tr>\n",
       "      <th>8</th>\n",
       "      <td>Tropicalis</td>\n",
       "      <td>Artic</td>\n",
       "      <td>34.1</td>\n",
       "      <td>18.1</td>\n",
       "      <td>193.0</td>\n",
       "      <td>3475.0</td>\n",
       "      <td>NaN</td>\n",
       "    </tr>\n",
       "    <tr>\n",
       "      <th>9</th>\n",
       "      <td>Tropicalis</td>\n",
       "      <td>Artic</td>\n",
       "      <td>42.0</td>\n",
       "      <td>20.2</td>\n",
       "      <td>190.0</td>\n",
       "      <td>4250.0</td>\n",
       "      <td>NaN</td>\n",
       "    </tr>\n",
       "    <tr>\n",
       "      <th>10</th>\n",
       "      <td>Tropicalis</td>\n",
       "      <td>Artic</td>\n",
       "      <td>37.8</td>\n",
       "      <td>17.1</td>\n",
       "      <td>186.0</td>\n",
       "      <td>3300.0</td>\n",
       "      <td>NaN</td>\n",
       "    </tr>\n",
       "    <tr>\n",
       "      <th>11</th>\n",
       "      <td>Tropicalis</td>\n",
       "      <td>Artic</td>\n",
       "      <td>37.8</td>\n",
       "      <td>17.3</td>\n",
       "      <td>180.0</td>\n",
       "      <td>3700.0</td>\n",
       "      <td>NaN</td>\n",
       "    </tr>\n",
       "    <tr>\n",
       "      <th>47</th>\n",
       "      <td>Tropicalis</td>\n",
       "      <td>Pacific</td>\n",
       "      <td>37.5</td>\n",
       "      <td>18.9</td>\n",
       "      <td>179.0</td>\n",
       "      <td>2975.0</td>\n",
       "      <td>NaN</td>\n",
       "    </tr>\n",
       "    <tr>\n",
       "      <th>246</th>\n",
       "      <td>Peale</td>\n",
       "      <td>Caraibean</td>\n",
       "      <td>44.5</td>\n",
       "      <td>14.3</td>\n",
       "      <td>216.0</td>\n",
       "      <td>4100.0</td>\n",
       "      <td>NaN</td>\n",
       "    </tr>\n",
       "    <tr>\n",
       "      <th>286</th>\n",
       "      <td>Peale</td>\n",
       "      <td>Caraibean</td>\n",
       "      <td>46.2</td>\n",
       "      <td>14.4</td>\n",
       "      <td>214.0</td>\n",
       "      <td>4650.0</td>\n",
       "      <td>NaN</td>\n",
       "    </tr>\n",
       "    <tr>\n",
       "      <th>324</th>\n",
       "      <td>Peale</td>\n",
       "      <td>Caraibean</td>\n",
       "      <td>47.3</td>\n",
       "      <td>13.8</td>\n",
       "      <td>216.0</td>\n",
       "      <td>4725.0</td>\n",
       "      <td>NaN</td>\n",
       "    </tr>\n",
       "  </tbody>\n",
       "</table>\n",
       "</div>"
      ],
      "text/plain": [
       "        variety       area  dimension_1_mm  dimension_2_mm  dimension_3_mm  \\\n",
       "8    Tropicalis      Artic            34.1            18.1           193.0   \n",
       "9    Tropicalis      Artic            42.0            20.2           190.0   \n",
       "10   Tropicalis      Artic            37.8            17.1           186.0   \n",
       "11   Tropicalis      Artic            37.8            17.3           180.0   \n",
       "47   Tropicalis    Pacific            37.5            18.9           179.0   \n",
       "246       Peale  Caraibean            44.5            14.3           216.0   \n",
       "286       Peale  Caraibean            46.2            14.4           214.0   \n",
       "324       Peale  Caraibean            47.3            13.8           216.0   \n",
       "\n",
       "     mass_g  sex  \n",
       "8    3475.0  NaN  \n",
       "9    4250.0  NaN  \n",
       "10   3300.0  NaN  \n",
       "11   3700.0  NaN  \n",
       "47   2975.0  NaN  \n",
       "246  4100.0  NaN  \n",
       "286  4650.0  NaN  \n",
       "324  4725.0  NaN  "
      ]
     },
     "execution_count": 9,
     "metadata": {},
     "output_type": "execute_result"
    }
   ],
   "source": [
    "df[df['sex'].isna()]"
   ]
  },
  {
   "cell_type": "code",
   "execution_count": 10,
   "id": "aeb670f9",
   "metadata": {},
   "outputs": [
    {
     "data": {
      "text/plain": [
       "MALE      168\n",
       "FEMALE    165\n",
       ".           1\n",
       "Name: sex, dtype: int64"
      ]
     },
     "execution_count": 10,
     "metadata": {},
     "output_type": "execute_result"
    }
   ],
   "source": [
    "df['sex'].value_counts()"
   ]
  },
  {
   "cell_type": "markdown",
   "id": "a319d194",
   "metadata": {},
   "source": [
    "### Remplacement de la ligne avec un point dans la colonne sex"
   ]
  },
  {
   "cell_type": "code",
   "execution_count": 11,
   "id": "5cfbeb7b",
   "metadata": {},
   "outputs": [
    {
     "data": {
      "text/html": [
       "<div>\n",
       "<style scoped>\n",
       "    .dataframe tbody tr th:only-of-type {\n",
       "        vertical-align: middle;\n",
       "    }\n",
       "\n",
       "    .dataframe tbody tr th {\n",
       "        vertical-align: top;\n",
       "    }\n",
       "\n",
       "    .dataframe thead th {\n",
       "        text-align: right;\n",
       "    }\n",
       "</style>\n",
       "<table border=\"1\" class=\"dataframe\">\n",
       "  <thead>\n",
       "    <tr style=\"text-align: right;\">\n",
       "      <th></th>\n",
       "      <th>variety</th>\n",
       "      <th>area</th>\n",
       "      <th>dimension_1_mm</th>\n",
       "      <th>dimension_2_mm</th>\n",
       "      <th>dimension_3_mm</th>\n",
       "      <th>mass_g</th>\n",
       "      <th>sex</th>\n",
       "    </tr>\n",
       "  </thead>\n",
       "  <tbody>\n",
       "    <tr>\n",
       "      <th>336</th>\n",
       "      <td>Peale</td>\n",
       "      <td>Caraibean</td>\n",
       "      <td>44.5</td>\n",
       "      <td>15.7</td>\n",
       "      <td>217.0</td>\n",
       "      <td>4875.0</td>\n",
       "      <td>.</td>\n",
       "    </tr>\n",
       "  </tbody>\n",
       "</table>\n",
       "</div>"
      ],
      "text/plain": [
       "    variety       area  dimension_1_mm  dimension_2_mm  dimension_3_mm  \\\n",
       "336   Peale  Caraibean            44.5            15.7           217.0   \n",
       "\n",
       "     mass_g sex  \n",
       "336  4875.0   .  "
      ]
     },
     "execution_count": 11,
     "metadata": {},
     "output_type": "execute_result"
    }
   ],
   "source": [
    "df[(df.sex=='.')]"
   ]
  },
  {
   "cell_type": "code",
   "execution_count": 12,
   "id": "29b5c6f0",
   "metadata": {},
   "outputs": [],
   "source": [
    "df['sex'] = df['sex'].replace({'.':None})"
   ]
  },
  {
   "cell_type": "markdown",
   "id": "3ffc9d64",
   "metadata": {},
   "source": [
    "### 9 valeurs manquantes au lieu de 8"
   ]
  },
  {
   "cell_type": "code",
   "execution_count": 13,
   "id": "2241728e",
   "metadata": {},
   "outputs": [
    {
     "data": {
      "text/plain": [
       "variety           0\n",
       "area              0\n",
       "dimension_1_mm    0\n",
       "dimension_2_mm    0\n",
       "dimension_3_mm    0\n",
       "mass_g            0\n",
       "sex               9\n",
       "dtype: int64"
      ]
     },
     "execution_count": 13,
     "metadata": {},
     "output_type": "execute_result"
    }
   ],
   "source": [
    "df.isna().sum()"
   ]
  },
  {
   "cell_type": "markdown",
   "id": "4c7cda55",
   "metadata": {},
   "source": [
    "### Les femelles sont moins massives que les mâles"
   ]
  },
  {
   "cell_type": "code",
   "execution_count": 14,
   "id": "4d8ee037",
   "metadata": {},
   "outputs": [
    {
     "data": {
      "text/html": [
       "<div>\n",
       "<style scoped>\n",
       "    .dataframe tbody tr th:only-of-type {\n",
       "        vertical-align: middle;\n",
       "    }\n",
       "\n",
       "    .dataframe tbody tr th {\n",
       "        vertical-align: top;\n",
       "    }\n",
       "\n",
       "    .dataframe thead th {\n",
       "        text-align: right;\n",
       "    }\n",
       "</style>\n",
       "<table border=\"1\" class=\"dataframe\">\n",
       "  <thead>\n",
       "    <tr style=\"text-align: right;\">\n",
       "      <th></th>\n",
       "      <th></th>\n",
       "      <th>dimension_1_mm</th>\n",
       "      <th>dimension_2_mm</th>\n",
       "      <th>dimension_3_mm</th>\n",
       "      <th>mass_g</th>\n",
       "    </tr>\n",
       "    <tr>\n",
       "      <th>variety</th>\n",
       "      <th>sex</th>\n",
       "      <th></th>\n",
       "      <th></th>\n",
       "      <th></th>\n",
       "      <th></th>\n",
       "    </tr>\n",
       "  </thead>\n",
       "  <tbody>\n",
       "    <tr>\n",
       "      <th rowspan=\"2\" valign=\"top\">Chinensis</th>\n",
       "      <th>FEMALE</th>\n",
       "      <td>46.57</td>\n",
       "      <td>17.59</td>\n",
       "      <td>191.74</td>\n",
       "      <td>3527.21</td>\n",
       "    </tr>\n",
       "    <tr>\n",
       "      <th>MALE</th>\n",
       "      <td>51.09</td>\n",
       "      <td>19.25</td>\n",
       "      <td>199.91</td>\n",
       "      <td>3938.97</td>\n",
       "    </tr>\n",
       "    <tr>\n",
       "      <th rowspan=\"2\" valign=\"top\">Peale</th>\n",
       "      <th>FEMALE</th>\n",
       "      <td>45.56</td>\n",
       "      <td>14.24</td>\n",
       "      <td>212.71</td>\n",
       "      <td>4679.74</td>\n",
       "    </tr>\n",
       "    <tr>\n",
       "      <th>MALE</th>\n",
       "      <td>49.47</td>\n",
       "      <td>15.72</td>\n",
       "      <td>221.54</td>\n",
       "      <td>5484.84</td>\n",
       "    </tr>\n",
       "    <tr>\n",
       "      <th rowspan=\"2\" valign=\"top\">Tropicalis</th>\n",
       "      <th>FEMALE</th>\n",
       "      <td>37.26</td>\n",
       "      <td>17.62</td>\n",
       "      <td>187.79</td>\n",
       "      <td>3368.84</td>\n",
       "    </tr>\n",
       "    <tr>\n",
       "      <th>MALE</th>\n",
       "      <td>40.39</td>\n",
       "      <td>19.07</td>\n",
       "      <td>192.41</td>\n",
       "      <td>4043.49</td>\n",
       "    </tr>\n",
       "  </tbody>\n",
       "</table>\n",
       "</div>"
      ],
      "text/plain": [
       "                   dimension_1_mm  dimension_2_mm  dimension_3_mm   mass_g\n",
       "variety    sex                                                            \n",
       "Chinensis  FEMALE           46.57           17.59          191.74  3527.21\n",
       "           MALE             51.09           19.25          199.91  3938.97\n",
       "Peale      FEMALE           45.56           14.24          212.71  4679.74\n",
       "           MALE             49.47           15.72          221.54  5484.84\n",
       "Tropicalis FEMALE           37.26           17.62          187.79  3368.84\n",
       "           MALE             40.39           19.07          192.41  4043.49"
      ]
     },
     "execution_count": 14,
     "metadata": {},
     "output_type": "execute_result"
    }
   ],
   "source": [
    "df.groupby(['variety', 'sex']).mean().round(2)"
   ]
  },
  {
   "cell_type": "markdown",
   "id": "4917d8b6",
   "metadata": {},
   "source": [
    "### Remplacement des valeurs manquantes de la colonne sex en fonction du contenu des colonnes : variety, area"
   ]
  },
  {
   "cell_type": "code",
   "execution_count": 15,
   "id": "19060811",
   "metadata": {},
   "outputs": [],
   "source": [
    "from random import choice\n",
    "df['sex'] = df['sex'].fillna(df.groupby(['variety', \n",
    "                                         'area'])['sex'].transform(lambda x:choice(x.mode())))"
   ]
  },
  {
   "cell_type": "code",
   "execution_count": 16,
   "id": "85c8c860",
   "metadata": {},
   "outputs": [
    {
     "data": {
      "text/plain": [
       "MALE      173\n",
       "FEMALE    169\n",
       "Name: sex, dtype: int64"
      ]
     },
     "execution_count": 16,
     "metadata": {},
     "output_type": "execute_result"
    }
   ],
   "source": [
    "df['sex'].value_counts()"
   ]
  },
  {
   "cell_type": "code",
   "execution_count": 17,
   "id": "f4066189",
   "metadata": {},
   "outputs": [
    {
     "data": {
      "text/plain": [
       "variety           0\n",
       "area              0\n",
       "dimension_1_mm    0\n",
       "dimension_2_mm    0\n",
       "dimension_3_mm    0\n",
       "mass_g            0\n",
       "sex               0\n",
       "dtype: int64"
      ]
     },
     "execution_count": 17,
     "metadata": {},
     "output_type": "execute_result"
    }
   ],
   "source": [
    "df.isna().sum()"
   ]
  },
  {
   "cell_type": "markdown",
   "id": "9bf190f1",
   "metadata": {},
   "source": [
    "### Imputation des valeurs manquantes est correcte dans l'ensemble"
   ]
  },
  {
   "cell_type": "code",
   "execution_count": 18,
   "id": "a1aa9653",
   "metadata": {},
   "outputs": [
    {
     "data": {
      "text/html": [
       "<div>\n",
       "<style scoped>\n",
       "    .dataframe tbody tr th:only-of-type {\n",
       "        vertical-align: middle;\n",
       "    }\n",
       "\n",
       "    .dataframe tbody tr th {\n",
       "        vertical-align: top;\n",
       "    }\n",
       "\n",
       "    .dataframe thead th {\n",
       "        text-align: right;\n",
       "    }\n",
       "</style>\n",
       "<table border=\"1\" class=\"dataframe\">\n",
       "  <thead>\n",
       "    <tr style=\"text-align: right;\">\n",
       "      <th></th>\n",
       "      <th></th>\n",
       "      <th>dimension_1_mm</th>\n",
       "      <th>dimension_2_mm</th>\n",
       "      <th>dimension_3_mm</th>\n",
       "      <th>mass_g</th>\n",
       "    </tr>\n",
       "    <tr>\n",
       "      <th>variety</th>\n",
       "      <th>sex</th>\n",
       "      <th></th>\n",
       "      <th></th>\n",
       "      <th></th>\n",
       "      <th></th>\n",
       "    </tr>\n",
       "  </thead>\n",
       "  <tbody>\n",
       "    <tr>\n",
       "      <th rowspan=\"2\" valign=\"top\">Chinensis</th>\n",
       "      <th>FEMALE</th>\n",
       "      <td>46.57</td>\n",
       "      <td>17.59</td>\n",
       "      <td>191.74</td>\n",
       "      <td>3527.21</td>\n",
       "    </tr>\n",
       "    <tr>\n",
       "      <th>MALE</th>\n",
       "      <td>51.09</td>\n",
       "      <td>19.25</td>\n",
       "      <td>199.91</td>\n",
       "      <td>3938.97</td>\n",
       "    </tr>\n",
       "    <tr>\n",
       "      <th rowspan=\"2\" valign=\"top\">Peale</th>\n",
       "      <th>FEMALE</th>\n",
       "      <td>45.56</td>\n",
       "      <td>14.24</td>\n",
       "      <td>212.71</td>\n",
       "      <td>4679.74</td>\n",
       "    </tr>\n",
       "    <tr>\n",
       "      <th>MALE</th>\n",
       "      <td>49.24</td>\n",
       "      <td>15.65</td>\n",
       "      <td>221.18</td>\n",
       "      <td>5429.62</td>\n",
       "    </tr>\n",
       "    <tr>\n",
       "      <th rowspan=\"2\" valign=\"top\">Tropicalis</th>\n",
       "      <th>FEMALE</th>\n",
       "      <td>37.29</td>\n",
       "      <td>17.65</td>\n",
       "      <td>187.77</td>\n",
       "      <td>3385.06</td>\n",
       "    </tr>\n",
       "    <tr>\n",
       "      <th>MALE</th>\n",
       "      <td>40.35</td>\n",
       "      <td>19.07</td>\n",
       "      <td>192.23</td>\n",
       "      <td>4029.05</td>\n",
       "    </tr>\n",
       "  </tbody>\n",
       "</table>\n",
       "</div>"
      ],
      "text/plain": [
       "                   dimension_1_mm  dimension_2_mm  dimension_3_mm   mass_g\n",
       "variety    sex                                                            \n",
       "Chinensis  FEMALE           46.57           17.59          191.74  3527.21\n",
       "           MALE             51.09           19.25          199.91  3938.97\n",
       "Peale      FEMALE           45.56           14.24          212.71  4679.74\n",
       "           MALE             49.24           15.65          221.18  5429.62\n",
       "Tropicalis FEMALE           37.29           17.65          187.77  3385.06\n",
       "           MALE             40.35           19.07          192.23  4029.05"
      ]
     },
     "execution_count": 18,
     "metadata": {},
     "output_type": "execute_result"
    }
   ],
   "source": [
    "df.groupby(['variety', 'sex']).mean().round(2)"
   ]
  },
  {
   "cell_type": "markdown",
   "id": "e8ee41ed",
   "metadata": {},
   "source": [
    "### Petit écart autour de la moyenne pour 3 dimensions"
   ]
  },
  {
   "cell_type": "code",
   "execution_count": 19,
   "id": "aa958906",
   "metadata": {},
   "outputs": [
    {
     "data": {
      "text/html": [
       "<div>\n",
       "<style scoped>\n",
       "    .dataframe tbody tr th:only-of-type {\n",
       "        vertical-align: middle;\n",
       "    }\n",
       "\n",
       "    .dataframe tbody tr th {\n",
       "        vertical-align: top;\n",
       "    }\n",
       "\n",
       "    .dataframe thead th {\n",
       "        text-align: right;\n",
       "    }\n",
       "</style>\n",
       "<table border=\"1\" class=\"dataframe\">\n",
       "  <thead>\n",
       "    <tr style=\"text-align: right;\">\n",
       "      <th></th>\n",
       "      <th>dimension_1_mm</th>\n",
       "      <th>dimension_2_mm</th>\n",
       "      <th>dimension_3_mm</th>\n",
       "      <th>mass_g</th>\n",
       "    </tr>\n",
       "  </thead>\n",
       "  <tbody>\n",
       "    <tr>\n",
       "      <th>count</th>\n",
       "      <td>342.000000</td>\n",
       "      <td>342.000000</td>\n",
       "      <td>342.000000</td>\n",
       "      <td>342.000000</td>\n",
       "    </tr>\n",
       "    <tr>\n",
       "      <th>mean</th>\n",
       "      <td>43.921930</td>\n",
       "      <td>17.151170</td>\n",
       "      <td>200.915205</td>\n",
       "      <td>4201.754386</td>\n",
       "    </tr>\n",
       "    <tr>\n",
       "      <th>std</th>\n",
       "      <td>5.459584</td>\n",
       "      <td>1.974793</td>\n",
       "      <td>14.061714</td>\n",
       "      <td>801.954536</td>\n",
       "    </tr>\n",
       "    <tr>\n",
       "      <th>min</th>\n",
       "      <td>32.100000</td>\n",
       "      <td>13.100000</td>\n",
       "      <td>172.000000</td>\n",
       "      <td>2700.000000</td>\n",
       "    </tr>\n",
       "    <tr>\n",
       "      <th>25%</th>\n",
       "      <td>39.225000</td>\n",
       "      <td>15.600000</td>\n",
       "      <td>190.000000</td>\n",
       "      <td>3550.000000</td>\n",
       "    </tr>\n",
       "    <tr>\n",
       "      <th>50%</th>\n",
       "      <td>44.450000</td>\n",
       "      <td>17.300000</td>\n",
       "      <td>197.000000</td>\n",
       "      <td>4050.000000</td>\n",
       "    </tr>\n",
       "    <tr>\n",
       "      <th>75%</th>\n",
       "      <td>48.500000</td>\n",
       "      <td>18.700000</td>\n",
       "      <td>213.000000</td>\n",
       "      <td>4750.000000</td>\n",
       "    </tr>\n",
       "    <tr>\n",
       "      <th>max</th>\n",
       "      <td>59.600000</td>\n",
       "      <td>21.500000</td>\n",
       "      <td>231.000000</td>\n",
       "      <td>6300.000000</td>\n",
       "    </tr>\n",
       "  </tbody>\n",
       "</table>\n",
       "</div>"
      ],
      "text/plain": [
       "       dimension_1_mm  dimension_2_mm  dimension_3_mm       mass_g\n",
       "count      342.000000      342.000000      342.000000   342.000000\n",
       "mean        43.921930       17.151170      200.915205  4201.754386\n",
       "std          5.459584        1.974793       14.061714   801.954536\n",
       "min         32.100000       13.100000      172.000000  2700.000000\n",
       "25%         39.225000       15.600000      190.000000  3550.000000\n",
       "50%         44.450000       17.300000      197.000000  4050.000000\n",
       "75%         48.500000       18.700000      213.000000  4750.000000\n",
       "max         59.600000       21.500000      231.000000  6300.000000"
      ]
     },
     "execution_count": 19,
     "metadata": {},
     "output_type": "execute_result"
    }
   ],
   "source": [
    "df.describe()"
   ]
  },
  {
   "cell_type": "markdown",
   "id": "52f067a1",
   "metadata": {},
   "source": [
    "# Machine Learning"
   ]
  },
  {
   "cell_type": "markdown",
   "id": "195dbae4",
   "metadata": {},
   "source": [
    "## Importation des bibliothèques"
   ]
  },
  {
   "cell_type": "code",
   "execution_count": 33,
   "id": "76401a7b",
   "metadata": {},
   "outputs": [],
   "source": [
    "import matplotlib.pyplot as plt\n",
    "import seaborn as sns\n",
    "import numpy as np\n",
    "from sklearn.compose import ColumnTransformer\n",
    "from sklearn.preprocessing import LabelEncoder, OneHotEncoder,StandardScaler, MinMaxScaler, RobustScaler\n",
    "from sklearn.pipeline import Pipeline\n",
    "from sklearn.model_selection import train_test_split, GridSearchCV, cross_val_score, RepeatedKFold\n",
    "from sklearn.ensemble import RandomForestClassifier\n",
    "from sklearn.svm import SVC\n",
    "from sklearn.neighbors import KNeighborsClassifier\n",
    "from sklearn.linear_model import LogisticRegression\n",
    "from sklearn import metrics\n",
    "from sklearn.metrics import confusion_matrix"
   ]
  },
  {
   "cell_type": "markdown",
   "id": "04626e09",
   "metadata": {},
   "source": [
    "### Transformer la cible en valeurs numériques"
   ]
  },
  {
   "cell_type": "code",
   "execution_count": 34,
   "id": "c11b75d5",
   "metadata": {},
   "outputs": [],
   "source": [
    "y = LabelEncoder().fit_transform(df['variety'])\n",
    "X = df.drop(columns='variety')\n",
    "X_train, X_test, y_train, y_test = train_test_split(X, y, test_size=0.2, random_state=42, stratify=y)"
   ]
  },
  {
   "cell_type": "markdown",
   "id": "48623171",
   "metadata": {},
   "source": [
    "### Transformer les features"
   ]
  },
  {
   "cell_type": "code",
   "execution_count": 35,
   "id": "ea3629ac",
   "metadata": {},
   "outputs": [],
   "source": [
    "column_cat = ['area', 'sex']\n",
    "transfo_cat = Pipeline(steps=[('onehot', OneHotEncoder(handle_unknown='ignore'))])\n",
    "\n",
    "column_num = ['dimension_1_mm', 'dimension_2_mm', 'dimension_3_mm', 'mass_g']\n",
    "transfo_num = Pipeline(steps=[('scaling', StandardScaler())])"
   ]
  },
  {
   "cell_type": "code",
   "execution_count": 36,
   "id": "bd8c49e2",
   "metadata": {},
   "outputs": [],
   "source": [
    "preparation = ColumnTransformer(\n",
    "    transformers=[\n",
    "        ('data_cat', transfo_cat , column_cat),\n",
    "        ('data_num', transfo_num , column_num)\n",
    "    ])"
   ]
  },
  {
   "cell_type": "code",
   "execution_count": 37,
   "id": "10dd3799",
   "metadata": {},
   "outputs": [
    {
     "data": {
      "text/plain": [
       "ColumnTransformer(n_jobs=None, remainder='drop', sparse_threshold=0.3,\n",
       "                  transformer_weights=None,\n",
       "                  transformers=[('data_cat',\n",
       "                                 Pipeline(memory=None,\n",
       "                                          steps=[('onehot',\n",
       "                                                  OneHotEncoder(categories='auto',\n",
       "                                                                drop=None,\n",
       "                                                                dtype=<class 'numpy.float64'>,\n",
       "                                                                handle_unknown='ignore',\n",
       "                                                                sparse=True))],\n",
       "                                          verbose=False),\n",
       "                                 ['area', 'sex']),\n",
       "                                ('data_num',\n",
       "                                 Pipeline(memory=None,\n",
       "                                          steps=[('scaling',\n",
       "                                                  StandardScaler(copy=True,\n",
       "                                                                 with_mean=True,\n",
       "                                                                 with_std=True))],\n",
       "                                          verbose=False),\n",
       "                                 ['dimension_1_mm', 'dimension_2_mm',\n",
       "                                  'dimension_3_mm', 'mass_g'])],\n",
       "                  verbose=False)"
      ]
     },
     "execution_count": 37,
     "metadata": {},
     "output_type": "execute_result"
    }
   ],
   "source": [
    "preparation"
   ]
  },
  {
   "cell_type": "code",
   "execution_count": 38,
   "id": "b78e1175",
   "metadata": {},
   "outputs": [],
   "source": [
    "cv = RepeatedKFold(n_splits=10, n_repeats=3)"
   ]
  },
  {
   "cell_type": "code",
   "execution_count": 39,
   "id": "f17c664e",
   "metadata": {},
   "outputs": [],
   "source": [
    "svm= SVC()\n",
    "rf=RandomForestClassifier()\n",
    "knn=KNeighborsClassifier()\n",
    "lr=LogisticRegression()"
   ]
  },
  {
   "cell_type": "markdown",
   "id": "6e5b1369",
   "metadata": {},
   "source": [
    "## Les hyperparamètres de la régression logistique et GridSearchCV"
   ]
  },
  {
   "cell_type": "code",
   "execution_count": 43,
   "id": "40a68023",
   "metadata": {},
   "outputs": [],
   "source": [
    "pipe = Pipeline(steps=[('preparation', preparation),('model',lr)])"
   ]
  },
  {
   "cell_type": "code",
   "execution_count": 44,
   "id": "4729f6c5",
   "metadata": {},
   "outputs": [
    {
     "name": "stdout",
     "output_type": "stream",
     "text": [
      "dict_keys(['memory', 'steps', 'verbose', 'preparation', 'model', 'preparation__n_jobs', 'preparation__remainder', 'preparation__sparse_threshold', 'preparation__transformer_weights', 'preparation__transformers', 'preparation__verbose', 'preparation__data_cat', 'preparation__data_num', 'preparation__data_cat__memory', 'preparation__data_cat__steps', 'preparation__data_cat__verbose', 'preparation__data_cat__onehot', 'preparation__data_cat__onehot__categories', 'preparation__data_cat__onehot__drop', 'preparation__data_cat__onehot__dtype', 'preparation__data_cat__onehot__handle_unknown', 'preparation__data_cat__onehot__sparse', 'preparation__data_num__memory', 'preparation__data_num__steps', 'preparation__data_num__verbose', 'preparation__data_num__scaling', 'preparation__data_num__scaling__copy', 'preparation__data_num__scaling__with_mean', 'preparation__data_num__scaling__with_std', 'model__C', 'model__class_weight', 'model__dual', 'model__fit_intercept', 'model__intercept_scaling', 'model__l1_ratio', 'model__max_iter', 'model__multi_class', 'model__n_jobs', 'model__penalty', 'model__random_state', 'model__solver', 'model__tol', 'model__verbose', 'model__warm_start'])\n"
     ]
    }
   ],
   "source": [
    "print(pipe.get_params().keys())"
   ]
  },
  {
   "cell_type": "code",
   "execution_count": 45,
   "id": "c741b495",
   "metadata": {},
   "outputs": [],
   "source": [
    "parameters = {'model__solver':('newton-cg', 'lbfgs', 'liblinear'),\n",
    "              'model__penalty':('none', 'l1', 'l2', 'elasticnet')}"
   ]
  },
  {
   "cell_type": "code",
   "execution_count": 46,
   "id": "9d64c871",
   "metadata": {},
   "outputs": [
    {
     "name": "stdout",
     "output_type": "stream",
     "text": [
      "Le meilleur score: 1.0\n",
      "Les meilleurs paramètres: {'model__penalty': 'l1', 'model__solver': 'liblinear'}\n"
     ]
    }
   ],
   "source": [
    "grid = GridSearchCV(pipe, parameters, cv = cv)\n",
    "grid.fit(X_train, y_train)\n",
    "print('Le meilleur score:', round(grid.best_score_, 2))\n",
    "print('Les meilleurs paramètres:', grid.best_params_)"
   ]
  },
  {
   "cell_type": "code",
   "execution_count": 48,
   "id": "fe60ad2a",
   "metadata": {},
   "outputs": [
    {
     "name": "stdout",
     "output_type": "stream",
     "text": [
      "              precision    recall  f1-score   support\n",
      "\n",
      "           0       1.00      1.00      1.00        14\n",
      "           1       1.00      1.00      1.00        25\n",
      "           2       1.00      1.00      1.00        30\n",
      "\n",
      "    accuracy                           1.00        69\n",
      "   macro avg       1.00      1.00      1.00        69\n",
      "weighted avg       1.00      1.00      1.00        69\n",
      "\n",
      "Coefficient de determination : 1.0\n"
     ]
    },
    {
     "data": {
      "image/png": "[encoded data removed]",
      "text/plain": [
       "<Figure size 576x396 with 2 Axes>"
      ]
     },
     "metadata": {},
     "output_type": "display_data"
    }
   ],
   "source": [
    "y_pred = grid.predict(X_test)\n",
    "print(metrics.classification_report(y_test, y_pred))\n",
    "print(\"Coefficient de determination :\", round(metrics.r2_score(y_test, y_pred), 2))\n",
    "cm = metrics.confusion_matrix(y_test, y_pred)\n",
    "f = sns.heatmap(cm, annot=True, fmt='d', cmap=plt.cm.summer)"
   ]
  },
  {
   "cell_type": "markdown",
   "id": "b2afecb6",
   "metadata": {},
   "source": [
    "# Conclusion: Pas de faux positifs et négatifs"
   ]
  },
  {
   "cell_type": "code",
   "execution_count": null,
   "id": "4a49871d",
   "metadata": {},
   "outputs": [],
   "source": []
  }
 ],
 "metadata": {
  "kernelspec": {
   "display_name": "Python 3 (ipykernel)",
   "language": "python",
   "name": "python3"
  },
  "language_info": {
   "codemirror_mode": {
    "name": "ipython",
    "version": 3
   },
   "file_extension": ".py",
   "mimetype": "text/x-python",
   "name": "python",
   "nbconvert_exporter": "python",
   "pygments_lexer": "ipython3",
   "version": "3.9.7"
  }
 },
 "nbformat": 4,
 "nbformat_minor": 5
}
